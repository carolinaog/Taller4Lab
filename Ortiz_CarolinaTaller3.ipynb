{
 "metadata": {
  "name": "",
  "signature": "sha256:eb3ef02ef57b339f94e0ed23ec4478e6d46ab0ecd81691a4db645d53d09ef97b"
 },
 "nbformat": 3,
 "nbformat_minor": 0,
 "worksheets": [
  {
   "cells": [
    {
     "cell_type": "code",
     "collapsed": false,
     "input": [
      "import sys\n",
      "import os\n",
      "import numpy as np\n",
      "import string\n",
      "import matplotlib.pyplot as plt\n",
      "#Descargar el archivo \n",
      "!wget https://raw.githubusercontent.com/forero/ComputationalMethodsData/master/homework/hw_5/sparse_sample_monthrg.dat"
     ],
     "language": "python",
     "metadata": {},
     "outputs": [
      {
       "output_type": "stream",
       "stream": "stdout",
       "text": [
        "--2015-03-05 21:03:51--  https://raw.githubusercontent.com/forero/ComputationalMethodsData/master/homework/hw_5/sparse_sample_monthrg.dat\r\n",
        "Resolving raw.githubusercontent.com (raw.githubusercontent.com)... 23.235.46.133\r\n",
        "Connecting to raw.githubusercontent.com (raw.githubusercontent.com)|23.235.46.133|:443... "
       ]
      },
      {
       "output_type": "stream",
       "stream": "stdout",
       "text": [
        "connected.\r\n"
       ]
      },
      {
       "output_type": "stream",
       "stream": "stdout",
       "text": [
        "HTTP request sent, awaiting response... "
       ]
      },
      {
       "output_type": "stream",
       "stream": "stdout",
       "text": [
        "200 OK\r\n",
        "Length: 7323 (7.2K) [text/plain]\r\n",
        "Saving to: `sparse_sample_monthrg.dat'\r\n",
        "\r\n",
        "\r",
        " 0% [                                       ] 0           --.-K/s              "
       ]
      },
      {
       "output_type": "stream",
       "stream": "stdout",
       "text": [
        "\r",
        "100%[======================================>] 7,323       --.-K/s   in 0.01s   \r\n",
        "\r\n",
        "2015-03-05 21:03:51 (637 KB/s) - `sparse_sample_monthrg.dat' saved [7323/7323]\r\n",
        "\r\n"
       ]
      }
     ],
     "prompt_number": 23
    },
    {
     "cell_type": "code",
     "collapsed": false,
     "input": [
      "Xvals=[]\n",
      "Yvals=[]\n",
      "Zvals=[]\n",
      "datos=[]\n",
      "a=[]\n",
      "suma=[]\n",
      "anoadia=[]\n",
      "mesadia=[]\n",
      "dia=[]\n",
      "tiempo=[]\n",
      "\n",
      "#Escoje los datos de los ultimos 40 a\u00f1os y los mete en la lista 'a'                                                                                                                                                                                         \n",
      "\n",
      "f = open('sparse_sample_monthrg.dat','r')\n",
      "for i, line in enumerate(f):\n",
      "    if i > 444:\n",
      "        a.append(line)\n",
      "\n",
      "for i in a:\n",
      "    x, y, z, w = i.split(' ', 4)\n",
      "    Xvals.append(float(x))\n",
      "    Yvals.append(float(y))\n",
      "    Zvals.append(float(z))\n",
      "    datos.append(float(w))\n",
      "   \n",
      "for i in Xvals:\n",
      "    ad=i*365\n",
      "    anoadia.append(ad)\n",
      "\n",
      "for i in Yvals:\n",
      "    md=i*30.00\n",
      "    mesadia.append(md)\n",
      "\n",
      "for i in Zvals:\n",
      "    d=(i*1.00)\n",
      "    dia.append(d)\n",
      "    \n",
      "#Suma=el tiempo dado en d\u00edas\n",
      "\n",
      "suma=[anoadia[i]+mesadia[i]+dia[i] for i in xrange(len(dia))]\n",
      "\n",
      "#Grafica del tiempo vs. la desviaci\u00f3n estandar \n",
      "\n",
      "plt.plot(suma, datos, 'ro')\n",
      "\n",
      "plt.show()\n",
      "\n"
     ],
     "language": "python",
     "metadata": {},
     "outputs": [],
     "prompt_number": 24
    },
    {
     "cell_type": "code",
     "collapsed": false,
     "input": [
      "#Elimina 15 valores aleatorios de la lista a, crea dos nuevas listas de 38 valores, suma y datos, que seran los vectores para el siguiente paso\n",
      "import random\n",
      "\n",
      "for i in range(0,15):\n",
      "    ran=random.randrange(len(suma))\n",
      "    suma=np.delete(suma,(ran))\n",
      "    datos=np.delete(datos,(ran))\n",
      "print suma\n",
      "print datos\n",
      "\n"
     ],
     "language": "python",
     "metadata": {},
     "outputs": [
      {
       "output_type": "stream",
       "stream": "stdout",
       "text": [
        "[ 713906.  714001.  714426.  714546.  714696.  715156.  715335.  715610.\n",
        "  716251.  716583.  716676.  717070.  717585.  717861.  717950.  718680.\n",
        "  719200.  719901.  720781.  721175.  722241.  722270.  722545.  722971.\n",
        "  723336.  723396.  723580.  723790.  724341.  724885.  724916.  725250.\n",
        "  726166.  726376.  726986.  727046.  728110.  728356.]\n",
        "[  62.4   68.3  145.4  168.9  219.   174.2  139.9  105.2   36.    24.2\n",
        "   36.5    9.2   14.6   54.7   60.    76.2  106.    86.2   43.1   17.7\n",
        "   67.5  129.9  151.3  145.4  149.6  150.2  138.1  103.7   55.9   14.2\n",
        "   10.4   14.5  146.1  156.9  179.2  127.2   32.1   15.1]\n"
       ]
      }
     ],
     "prompt_number": 25
    },
    {
     "cell_type": "code",
     "collapsed": false,
     "input": [
      "#3. Encontrar el polinomio que m\u00e1s se ajuste a los datos\n",
      "#se calcula el polinomio\n",
      "z = np.polyfit(suma, datos, 6)\n",
      "f = np.poly1d(z)\n",
      "print z\n",
      "print f\n",
      "# calcula los nuevos x y y's\n",
      "x_new = np.linspace(suma[0],suma[37])\n",
      "y_new = f(x_new)\n",
      "\n",
      "#plot del ajuste\n",
      "\n",
      "plt.plot(suma,datos,'o', x_new, y_new)\n",
      "plt.show()\n",
      "\n",
      "\n",
      "\n",
      "\n"
     ],
     "language": "python",
     "metadata": {},
     "outputs": [
      {
       "output_type": "stream",
       "stream": "stdout",
       "text": [
        "[  4.98862671e-24  -1.44052792e-17   1.30047652e-11  -1.72591122e-08\n",
        "  -6.75486676e+00   3.90256004e+06  -7.04243253e+11]\n",
        "           6             5           4             3         2\n",
        "4.989e-24 x - 1.441e-17 x + 1.3e-11 x - 1.726e-08 x - 6.755 x + 3.903e+06 x - 7.042e+11\n"
       ]
      },
      {
       "output_type": "stream",
       "stream": "stderr",
       "text": [
        "/home/carolinaog/anaconda/lib/python2.7/site-packages/numpy/lib/polynomial.py:588: RankWarning: Polyfit may be poorly conditioned\n",
        "  warnings.warn(msg, RankWarning)\n"
       ]
      }
     ],
     "prompt_number": 26
    },
    {
     "cell_type": "code",
     "collapsed": false,
     "input": [
      "#Interpolacion lineal\n",
      "from scipy.interpolate import interp1d\n",
      "f = interp1d(suma, datos)\n",
      "#grafica de la interpolaci\u00f3n lineal\n",
      "plt.plot(suma, f(suma))\n",
      "plt.scatter(suma,datos)\n",
      "plt.show()\n",
      "\n",
      "\n"
     ],
     "language": "python",
     "metadata": {},
     "outputs": [],
     "prompt_number": 27
    },
    {
     "cell_type": "code",
     "collapsed": false,
     "input": [
      "#Inteprolacion cubica\n",
      "fcubic = interp1d(suma,datos,kind = \"cubic\")\n",
      "#int cubica\n",
      "plt.figure(0)\n",
      "plt.plot(suma, fcubic(suma))\n",
      "plt.scatter(suma,datos)\n",
      "plt.show()\n",
      "\n",
      "#Interpolaci\u00f3n con funcion de ajuste, lineal y c\u00fabica\n",
      "plt.figure(1)\n",
      "plt.plot(suma,datos,'o', x_new, y_new)\n",
      "plt.plot(suma, f(suma))\n",
      "plt.plot(suma, fcubic(suma))\n",
      "\n",
      "#La funci\u00f3n de interpolaci\u00f3n que m\u00e1s se ajusta a los datos es probablemente la interpolaci\u00f3n c\u00fabica, aunque entre esta y la lineal, no se alcanzan a ver/n diferencias notables."
     ],
     "language": "python",
     "metadata": {},
     "outputs": [
      {
       "metadata": {},
       "output_type": "pyout",
       "prompt_number": 29,
       "text": [
        "[<matplotlib.lines.Line2D at 0xab1ccd2c>]"
       ]
      }
     ],
     "prompt_number": 29
    },
    {
     "cell_type": "code",
     "collapsed": false,
     "input": [],
     "language": "python",
     "metadata": {},
     "outputs": [],
     "prompt_number": 28
    },
    {
     "cell_type": "code",
     "collapsed": false,
     "input": [],
     "language": "python",
     "metadata": {},
     "outputs": []
    }
   ],
   "metadata": {}
  }
 ]
}